{
 "cells": [
  {
   "cell_type": "markdown",
   "id": "0687df4e",
   "metadata": {},
   "source": [
    "# This isn't yet working!\n",
    "\n",
    "Merely an example of how the interface should end up. "
   ]
  },
  {
   "cell_type": "code",
   "execution_count": null,
   "id": "e86bceaf",
   "metadata": {},
   "outputs": [],
   "source": [
    "import seaweed_model as sw\n",
    "model = sw.SeaweedModel()\n",
    "model.add_data_by_lme([i for i in range(1, 67)], \n",
    "                        \"data/seaweed_environment_data_in_nuclear_war.csv\")\n",
    "model.calculate_factors()\n",
    "model.calculate_growth_rate()\n",
    "model.plot_growth_rate_by_lme()"
   ]
  }
 ],
 "metadata": {
  "kernelspec": {
   "display_name": "Python 3.9.12 ('seaweed-growth-model')",
   "language": "python",
   "name": "python3"
  },
  "language_info": {
   "codemirror_mode": {
    "name": "ipython",
    "version": 3
   },
   "file_extension": ".py",
   "mimetype": "text/x-python",
   "name": "python",
   "nbconvert_exporter": "python",
   "pygments_lexer": "ipython3",
   "version": "3.9.12"
  },
  "vscode": {
   "interpreter": {
    "hash": "77892e2897ab48d4f924707d9b0416a866ff133812ce8b45e0bccce7af49a9d9"
   }
  }
 },
 "nbformat": 4,
 "nbformat_minor": 5
}
